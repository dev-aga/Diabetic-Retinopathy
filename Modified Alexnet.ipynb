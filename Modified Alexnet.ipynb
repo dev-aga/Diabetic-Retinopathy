{
 "cells": [
  {
   "cell_type": "markdown",
   "id": "5226be7f",
   "metadata": {},
   "source": [
    "# Import lib\n"
   ]
  },
  {
   "cell_type": "code",
   "execution_count": 1,
   "id": "70d107f8",
   "metadata": {},
   "outputs": [],
   "source": [
    "import pandas as pd\n",
    "import numpy as np\n",
    "import cv2\n",
    "\n",
    "import tensorflow\n",
    "from tensorflow import keras\n",
    "\n",
    "# useful for getting number of output classes\n",
    "from glob import glob\n",
    "\n",
    "import matplotlib.pyplot as plt\n",
    "from matplotlib import image\n",
    "from PIL import Image"
   ]
  },
  {
   "cell_type": "markdown",
   "id": "726a784a",
   "metadata": {},
   "source": [
    "# Dataset"
   ]
  },
  {
   "cell_type": "code",
   "execution_count": 2,
   "id": "ceb16e3c",
   "metadata": {},
   "outputs": [],
   "source": [
    "train_path = 'archive/colored_images_mod/train'\n",
    "test_path = 'archive/colored_images_mod/test'"
   ]
  },
  {
   "cell_type": "code",
   "execution_count": 3,
   "id": "7bc24b33",
   "metadata": {},
   "outputs": [],
   "source": [
    "classes = glob('archive/colored_images_mod/train/*')"
   ]
  },
  {
   "cell_type": "code",
   "execution_count": 4,
   "id": "2d9e7e35",
   "metadata": {},
   "outputs": [],
   "source": [
    "# Use the Image Data Generator to import the images from the dataset\n",
    "from tensorflow.keras.preprocessing.image import ImageDataGenerator\n",
    "\n",
    "train_datagen = ImageDataGenerator(rescale = 1./255,\n",
    "                                   rotation_range = 15,\n",
    "                                   shear_range = 0.2,\n",
    "                                   zoom_range = 0.2,\n",
    "                                   horizontal_flip = True,\n",
    "                                   vertical_flip=True)\n",
    "\n",
    "test_datagen = ImageDataGenerator(rescale = 1./255)"
   ]
  },
  {
   "cell_type": "code",
   "execution_count": 8,
   "id": "ea4a14fa",
   "metadata": {},
   "outputs": [
    {
     "name": "stdout",
     "output_type": "stream",
     "text": [
      "Found 2929 images belonging to 5 classes.\n"
     ]
    }
   ],
   "source": [
    "# Make sure you provide the same target size as initialied for the image size\n",
    "training_set = train_datagen.flow_from_directory(train_path,\n",
    "                                                 target_size = (224, 224),\n",
    "                                                 batch_size = 64,\n",
    "                                                 class_mode = 'categorical')"
   ]
  },
  {
   "cell_type": "code",
   "execution_count": 9,
   "id": "ab1cd68c",
   "metadata": {},
   "outputs": [
    {
     "name": "stdout",
     "output_type": "stream",
     "text": [
      "Found 733 images belonging to 5 classes.\n"
     ]
    }
   ],
   "source": [
    "test_set = test_datagen.flow_from_directory(test_path,\n",
    "                                           target_size = (224, 224),\n",
    "                                           batch_size = 64,\n",
    "                                           class_mode = 'categorical')"
   ]
  },
  {
   "cell_type": "markdown",
   "id": "5ccd6fc0",
   "metadata": {},
   "source": [
    "# Modified AlexNet"
   ]
  },
  {
   "cell_type": "code",
   "execution_count": 24,
   "id": "c2dff6b7",
   "metadata": {},
   "outputs": [],
   "source": [
    "# modified Alexnet as given in the paper \n",
    "model=keras.models.Sequential([\n",
    "    keras.layers.Conv2D(filters=32, kernel_size=(3,3), activation='relu', input_shape=(224,224,3)),\n",
    "    keras.layers.Conv2D(filters=32, kernel_size=(3,3), activation='relu'),\n",
    "    keras.layers.MaxPool2D(pool_size=(2,2)),\n",
    "    keras.layers.Conv2D(filters=32, kernel_size=(3,3), activation='relu'),\n",
    "    keras.layers.MaxPool2D(pool_size=(2,2)),\n",
    "    keras.layers.Conv2D(filters=32, kernel_size=(3,3), activation='relu'),\n",
    "    keras.layers.MaxPool2D(pool_size=(2,2)),\n",
    "    keras.layers.Flatten(),\n",
    "    keras.layers.Dense(512,activation='relu'),\n",
    "    keras.layers.Dense(5,activation='softmax')    \n",
    "])"
   ]
  },
  {
   "cell_type": "code",
   "execution_count": 25,
   "id": "6ec94563",
   "metadata": {},
   "outputs": [],
   "source": [
    "# compling the model with loss, optimiser and metrics\n",
    "model.compile(\n",
    "    loss='categorical_crossentropy', \n",
    "    optimizer=tensorflow.optimizers.SGD(learning_rate=0.01), \n",
    "    metrics=['accuracy']    \n",
    ")"
   ]
  },
  {
   "cell_type": "code",
   "execution_count": 26,
   "id": "60ac7662",
   "metadata": {},
   "outputs": [
    {
     "name": "stdout",
     "output_type": "stream",
     "text": [
      "Model: \"sequential_4\"\n",
      "_________________________________________________________________\n",
      "Layer (type)                 Output Shape              Param #   \n",
      "=================================================================\n",
      "conv2d_16 (Conv2D)           (None, 222, 222, 32)      896       \n",
      "_________________________________________________________________\n",
      "conv2d_17 (Conv2D)           (None, 220, 220, 32)      9248      \n",
      "_________________________________________________________________\n",
      "max_pooling2d_12 (MaxPooling (None, 110, 110, 32)      0         \n",
      "_________________________________________________________________\n",
      "conv2d_18 (Conv2D)           (None, 108, 108, 32)      9248      \n",
      "_________________________________________________________________\n",
      "max_pooling2d_13 (MaxPooling (None, 54, 54, 32)        0         \n",
      "_________________________________________________________________\n",
      "conv2d_19 (Conv2D)           (None, 52, 52, 32)        9248      \n",
      "_________________________________________________________________\n",
      "max_pooling2d_14 (MaxPooling (None, 26, 26, 32)        0         \n",
      "_________________________________________________________________\n",
      "flatten_4 (Flatten)          (None, 21632)             0         \n",
      "_________________________________________________________________\n",
      "dense_8 (Dense)              (None, 512)               11076096  \n",
      "_________________________________________________________________\n",
      "dense_9 (Dense)              (None, 5)                 2565      \n",
      "=================================================================\n",
      "Total params: 11,107,301\n",
      "Trainable params: 11,107,301\n",
      "Non-trainable params: 0\n",
      "_________________________________________________________________\n"
     ]
    }
   ],
   "source": [
    "model.summary()"
   ]
  },
  {
   "cell_type": "code",
   "execution_count": 27,
   "id": "220ee7c7",
   "metadata": {},
   "outputs": [
    {
     "name": "stdout",
     "output_type": "stream",
     "text": [
      "Epoch 1/20\n",
      "46/46 [==============================] - 37s 796ms/step - loss: 1.2958 - accuracy: 0.4899 - val_loss: 1.2362 - val_accuracy: 0.4993\n",
      "Epoch 2/20\n",
      "46/46 [==============================] - 35s 753ms/step - loss: 1.2130 - accuracy: 0.5101 - val_loss: 1.3081 - val_accuracy: 0.4093\n",
      "Epoch 3/20\n",
      "46/46 [==============================] - 33s 707ms/step - loss: 1.1731 - accuracy: 0.5377 - val_loss: 1.0997 - val_accuracy: 0.6235\n",
      "Epoch 4/20\n",
      "46/46 [==============================] - 32s 700ms/step - loss: 1.1537 - accuracy: 0.5381 - val_loss: 1.0358 - val_accuracy: 0.6658\n",
      "Epoch 5/20\n",
      "46/46 [==============================] - 32s 698ms/step - loss: 1.1357 - accuracy: 0.5394 - val_loss: 1.1006 - val_accuracy: 0.4911\n",
      "Epoch 6/20\n",
      "46/46 [==============================] - 34s 742ms/step - loss: 1.1003 - accuracy: 0.5787 - val_loss: 0.9885 - val_accuracy: 0.6439\n",
      "Epoch 7/20\n",
      "46/46 [==============================] - 36s 772ms/step - loss: 1.0935 - accuracy: 0.5825 - val_loss: 0.9967 - val_accuracy: 0.6071\n",
      "Epoch 8/20\n",
      "46/46 [==============================] - 36s 784ms/step - loss: 1.0647 - accuracy: 0.6002 - val_loss: 0.9304 - val_accuracy: 0.6712\n",
      "Epoch 9/20\n",
      "46/46 [==============================] - 64s 1s/step - loss: 1.0570 - accuracy: 0.6067 - val_loss: 0.9434 - val_accuracy: 0.6630\n",
      "Epoch 10/20\n",
      "46/46 [==============================] - 31s 659ms/step - loss: 1.0602 - accuracy: 0.5992 - val_loss: 0.9493 - val_accuracy: 0.6712\n",
      "Epoch 11/20\n",
      "46/46 [==============================] - 31s 674ms/step - loss: 1.0593 - accuracy: 0.6125 - val_loss: 0.9287 - val_accuracy: 0.6780\n",
      "Epoch 12/20\n",
      "46/46 [==============================] - 31s 679ms/step - loss: 1.0307 - accuracy: 0.6152 - val_loss: 0.9252 - val_accuracy: 0.6617\n",
      "Epoch 13/20\n",
      "46/46 [==============================] - 31s 670ms/step - loss: 1.0136 - accuracy: 0.6330 - val_loss: 0.9034 - val_accuracy: 0.6835\n",
      "Epoch 14/20\n",
      "46/46 [==============================] - 31s 672ms/step - loss: 1.0195 - accuracy: 0.6275 - val_loss: 0.8967 - val_accuracy: 0.6808\n",
      "Epoch 15/20\n",
      "46/46 [==============================] - 30s 644ms/step - loss: 0.9809 - accuracy: 0.6497 - val_loss: 0.8781 - val_accuracy: 0.6821\n",
      "Epoch 16/20\n",
      "46/46 [==============================] - 32s 700ms/step - loss: 0.9752 - accuracy: 0.6507 - val_loss: 0.8674 - val_accuracy: 0.6849\n",
      "Epoch 17/20\n",
      "46/46 [==============================] - 30s 642ms/step - loss: 0.9810 - accuracy: 0.6460 - val_loss: 0.9207 - val_accuracy: 0.6548\n",
      "Epoch 18/20\n",
      "46/46 [==============================] - 32s 684ms/step - loss: 0.9429 - accuracy: 0.6572 - val_loss: 0.9743 - val_accuracy: 0.6207\n",
      "Epoch 19/20\n",
      "46/46 [==============================] - 34s 734ms/step - loss: 0.9420 - accuracy: 0.6627 - val_loss: 0.9327 - val_accuracy: 0.6576\n",
      "Epoch 20/20\n",
      "46/46 [==============================] - 31s 661ms/step - loss: 0.9411 - accuracy: 0.6600 - val_loss: 0.9313 - val_accuracy: 0.6494\n"
     ]
    }
   ],
   "source": [
    "# using test set in place of val set \n",
    "# val loss and accuracy is test loss and accuracy\n",
    "r = model.fit(\n",
    "  training_set,\n",
    "  validation_data=test_set,\n",
    "  epochs=20,\n",
    "  steps_per_epoch=len(training_set),\n",
    "  validation_steps=len(test_set),\n",
    ")"
   ]
  },
  {
   "cell_type": "code",
   "execution_count": 28,
   "id": "b5cbf2c3",
   "metadata": {},
   "outputs": [
    {
     "data": {
      "image/png": "[encoded data removed]",
      "text/plain": [
       "<Figure size 432x288 with 1 Axes>"
      ]
     },
     "metadata": {
      "needs_background": "light"
     },
     "output_type": "display_data"
    },
    {
     "data": {
      "image/png": "[encoded data removed]",
      "text/plain": [
       "<Figure size 432x288 with 1 Axes>"
      ]
     },
     "metadata": {
      "needs_background": "light"
     },
     "output_type": "display_data"
    }
   ],
   "source": [
    "# plot the loss\n",
    "plt.plot(r.history['loss'], label='train loss')\n",
    "plt.plot(r.history['val_loss'], label='test loss')\n",
    "plt.legend()\n",
    "plt.show()\n",
    "\n",
    "# plot the accuracy\n",
    "plt.plot(r.history['accuracy'], label='train acc')\n",
    "plt.plot(r.history['val_accuracy'], label='test acc')\n",
    "plt.legend()\n",
    "plt.show()"
   ]
  },
  {
   "cell_type": "code",
   "execution_count": null,
   "id": "91fd7fe3",
   "metadata": {},
   "outputs": [],
   "source": []
  }
 ],
 "metadata": {
  "kernelspec": {
   "display_name": "env_cnn",
   "language": "python",
   "name": "python3"
  },
  "language_info": {
   "codemirror_mode": {
    "name": "ipython",
    "version": 3
   },
   "file_extension": ".py",
   "mimetype": "text/x-python",
   "name": "python",
   "nbconvert_exporter": "python",
   "pygments_lexer": "ipython3",
   "version": "3.9.16"
  },
  "vscode": {
   "interpreter": {
    "hash": "363736f0bd30303b2303ee8ca3c909a6a8ec31563dfa58077a499c983fdf9b58"
   }
  }
 },
 "nbformat": 4,
 "nbformat_minor": 5
}
